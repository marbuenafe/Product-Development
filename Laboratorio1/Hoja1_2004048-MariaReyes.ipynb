{
 "cells": [
  {
   "cell_type": "markdown",
   "id": "df1817f6-88c3-452f-a203-3f6155e44f5f",
   "metadata": {},
   "source": [
    "# **Hoja de Trabajo1 - Data Product Development**"
   ]
  },
  {
   "cell_type": "markdown",
   "id": "e031609c-45bf-48a2-aa78-1aaa6f6bd7e0",
   "metadata": {},
   "source": [
    "#### **Desarrolladora:** 20004048 Maria de los Angeles Reyes Buenafé"
   ]
  },
  {
   "cell_type": "markdown",
   "id": "9592c1e2-942c-4958-a798-13998710bb0e",
   "metadata": {},
   "source": [
    "##### Creación de clases y Constructores"
   ]
  },
  {
   "cell_type": "code",
   "execution_count": 203,
   "id": "f58922b2-ef73-4783-b867-c7b7ff6cf647",
   "metadata": {},
   "outputs": [],
   "source": [
    "class regresion:\n",
    "    #constructor\n",
    "    def __init__(self):\n",
    "        self.listx = []\n",
    "        self.listy = []\n",
    "        self.xpory = []\n",
    "        self.xexp = []\n",
    "        self.predy = []\n",
    "        self.sce = []\n",
    "        self.sct = []\n",
    "        self.menx=0\n",
    "        self.meny=0\n",
    "        self.rDos=0\n",
    "        \n",
    "    def add_ValorList(self,x,y):\n",
    "        self.listx.append(x)\n",
    "        self.listy.append(y)  \n",
    "        self.n = len(self.listx)\n",
    "        self.xpory.append(x*y)\n",
    "        self.xexp.append(x*x)\n",
    "        self.sumx=sum(self.listx)\n",
    "        self.sumy=sum(self.listy)\n",
    "        self.sumxy=sum(self.xpory)\n",
    "        self.sumxporx=sum(self.xexp)\n",
    "        self.menx=(self.sumx/self.n)\n",
    "        self.meny=(self.sumy/self.n)\n",
    "        self.sumxexp = (self.sumx*self.sumx)\n",
    "        self.bdem = (self.n*self.sumxporx-self.sumxexp)\n",
    "        self.bnum = (self.n*self.sumxy-self.sumx*self.sumy)\n",
    "        if self.bdem > 0:\n",
    "            self.b0 = self.bnum/self.bdem\n",
    "            self.b1 = (self.meny-(self.b0*self.menx))\n",
    "        else:\n",
    "            self.b0 = 0\n",
    "            self.b1 = 0\n",
    "            \n",
    "    def predicN(self,x):\n",
    "        self.predy.append(self.b0*x+self.b1)\n",
    "    \n",
    "    def calculaRDos(self):\n",
    "        i = 0\n",
    "        for i in range(self.n):\n",
    "            self.sce.append((self.listy[i]-self.predy[i])*(self.listy[i]-self.predy[i]))\n",
    "            self.sumsce=sum(self.sce)\n",
    "            self.sct.append((self.listy[i]-self.meny)*(self.listy[i]-self.meny))\n",
    "            self.sumsct = sum(self.sct)\n",
    "            self.rDos=(self.sumsct-self.sumsce)/self.sumsct\n",
    "    def getAllParams(self):\n",
    "        "
   ]
  },
  {
   "cell_type": "code",
   "execution_count": 204,
   "id": "0432936d-0232-40a1-a87e-e9540974e238",
   "metadata": {},
   "outputs": [],
   "source": [
    "rest = regresion()"
   ]
  },
  {
   "cell_type": "code",
   "execution_count": 205,
   "id": "6c38f1a4-a45d-44f5-95d5-55a36b8b199f",
   "metadata": {},
   "outputs": [],
   "source": [
    "rest.add_ValorList(2,58)\n",
    "rest.add_ValorList(6,105)\n",
    "rest.add_ValorList(8,88)\n",
    "rest.add_ValorList(8,118)\n",
    "rest.add_ValorList(12,117)\n",
    "rest.add_ValorList(16,137)\n",
    "rest.add_ValorList(20,157)\n",
    "rest.add_ValorList(20,169)\n",
    "rest.add_ValorList(22,149)\n",
    "rest.add_ValorList(26,202)"
   ]
  },
  {
   "cell_type": "code",
   "execution_count": 206,
   "id": "2cda501a-52a0-48c7-9a81-40e3ebd8b0b9",
   "metadata": {},
   "outputs": [
    {
     "data": {
      "text/plain": [
       "5.0"
      ]
     },
     "execution_count": 206,
     "metadata": {},
     "output_type": "execute_result"
    }
   ],
   "source": [
    "rest.b0"
   ]
  },
  {
   "cell_type": "code",
   "execution_count": 207,
   "id": "63e20c83-23ef-40dd-889e-db0f0399ed1c",
   "metadata": {},
   "outputs": [],
   "source": [
    "rest.predicN(2)\n",
    "rest.predicN(6)\n",
    "rest.predicN(8)\n",
    "rest.predicN(8)\n",
    "rest.predicN(12)\n",
    "rest.predicN(16)\n",
    "rest.predicN(20)\n",
    "rest.predicN(20)\n",
    "rest.predicN(22)\n",
    "rest.predicN(26)"
   ]
  },
  {
   "cell_type": "code",
   "execution_count": 208,
   "id": "3c9f2ec1-4ec5-4e31-b023-3f078c035943",
   "metadata": {},
   "outputs": [
    {
     "data": {
      "text/plain": [
       "[70.0, 90.0, 100.0, 100.0, 120.0, 140.0, 160.0, 160.0, 170.0, 190.0]"
      ]
     },
     "execution_count": 208,
     "metadata": {},
     "output_type": "execute_result"
    }
   ],
   "source": [
    "rest.predy"
   ]
  },
  {
   "cell_type": "code",
   "execution_count": 209,
   "id": "732bfb4a-f723-4234-a097-8ca628df6ca0",
   "metadata": {},
   "outputs": [
    {
     "data": {
      "text/plain": [
       "[58, 105, 88, 118, 117, 137, 157, 169, 149, 202]"
      ]
     },
     "execution_count": 209,
     "metadata": {},
     "output_type": "execute_result"
    }
   ],
   "source": [
    "rest.listy"
   ]
  },
  {
   "cell_type": "code",
   "execution_count": 210,
   "id": "dbb3209a-757f-4b54-93f5-6d4949fd3d22",
   "metadata": {},
   "outputs": [
    {
     "data": {
      "text/plain": [
       "1530.0"
      ]
     },
     "execution_count": 210,
     "metadata": {},
     "output_type": "execute_result"
    }
   ],
   "source": [
    "rest.calculaRDos()\n",
    "rest.sce\n",
    "rest.sumsce"
   ]
  },
  {
   "cell_type": "code",
   "execution_count": 212,
   "id": "ed8fb944-88f9-4dfd-b011-0644996604b1",
   "metadata": {},
   "outputs": [
    {
     "data": {
      "text/plain": [
       "0.9027336300063573"
      ]
     },
     "execution_count": 212,
     "metadata": {},
     "output_type": "execute_result"
    }
   ],
   "source": [
    "rest.rDos"
   ]
  },
  {
   "cell_type": "code",
   "execution_count": null,
   "id": "7e15823e-858b-4e92-a6d8-464fb8cda78b",
   "metadata": {},
   "outputs": [],
   "source": []
  }
 ],
 "metadata": {
  "kernelspec": {
   "display_name": "Python 3 (ipykernel)",
   "language": "python",
   "name": "python3"
  },
  "language_info": {
   "codemirror_mode": {
    "name": "ipython",
    "version": 3
   },
   "file_extension": ".py",
   "mimetype": "text/x-python",
   "name": "python",
   "nbconvert_exporter": "python",
   "pygments_lexer": "ipython3",
   "version": "3.8.5"
  }
 },
 "nbformat": 4,
 "nbformat_minor": 5
}
